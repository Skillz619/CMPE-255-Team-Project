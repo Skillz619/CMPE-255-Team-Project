{
 "cells": [
  {
   "cell_type": "code",
   "execution_count": 33,
   "id": "1fdcaecf",
   "metadata": {},
   "outputs": [],
   "source": [
    "import numpy as np"
   ]
  },
  {
   "cell_type": "markdown",
   "id": "f95480eb",
   "metadata": {},
   "source": [
    "# Preprocessing"
   ]
  },
  {
   "cell_type": "code",
   "execution_count": 10,
   "id": "b8a89373",
   "metadata": {},
   "outputs": [],
   "source": [
    "data_read = []\n",
    "with open('yearpredictionmsd/YearPredictionMSD.txt', 'r') as file:\n",
    "    lines = file.readlines()\n",
    "data_read = [line.strip().split(\",\") for line in lines]"
   ]
  },
  {
   "cell_type": "code",
   "execution_count": 15,
   "id": "f223f028",
   "metadata": {},
   "outputs": [
    {
     "name": "stdout",
     "output_type": "stream",
     "text": [
      "Total number of instance  515345\n",
      "Total number of features  90\n"
     ]
    }
   ],
   "source": [
    "# Validate that feature matches the specs\n",
    "print(\"Total number of instance \", len(data_read))\n",
    "print(\"Total number of features \", len(data_read[0][1:]))"
   ]
  },
  {
   "cell_type": "markdown",
   "id": "51dace29",
   "metadata": {},
   "source": [
    "### Checking for any missing attributes -> each instance should have 91 columns, index 0 matches year, index 1-89 matches features"
   ]
  },
  {
   "cell_type": "code",
   "execution_count": 20,
   "id": "46d21288",
   "metadata": {},
   "outputs": [
    {
     "name": "stdout",
     "output_type": "stream",
     "text": [
      "No Anomalies detected:  True\n"
     ]
    }
   ],
   "source": [
    "anomalies = []\n",
    "for index, instance in enumerate(data_read):\n",
    "    if (len(instance) != 91):\n",
    "        anomalies.append(index)\n",
    "print(\"No Anomalies detected: \", len(anomalies) == 0)"
   ]
  },
  {
   "cell_type": "markdown",
   "id": "f5704805",
   "metadata": {},
   "source": [
    "### Breakdown data into training and testing, first 463,715 to be training via data set instructions. Separate year with features, converting types."
   ]
  },
  {
   "cell_type": "code",
   "execution_count": 34,
   "id": "ec8cee51",
   "metadata": {},
   "outputs": [],
   "source": [
    "training = np.array(data_read[:463715])\n",
    "testing = np.array(data_read[463715:])"
   ]
  },
  {
   "cell_type": "code",
   "execution_count": 29,
   "id": "310e3394",
   "metadata": {},
   "outputs": [
    {
     "name": "stdout",
     "output_type": "stream",
     "text": [
      "length of training 463715, length of testing 51630, total 515345\n"
     ]
    }
   ],
   "source": [
    "print(f\"length of training {len(training)}, length of testing {len(testing)}, total {len(data_read)}\")"
   ]
  },
  {
   "cell_type": "code",
   "execution_count": 54,
   "id": "48c472f3",
   "metadata": {},
   "outputs": [],
   "source": [
    "def data_cleaning(data):\n",
    "    years = data[:, 0]\n",
    "    years = [int(year) for year in years]\n",
    "    features = data[:, 1:]\n",
    "    features = [np.double(feature) for feature in features]\n",
    "    return np.array(years), np.array(features)\n"
   ]
  },
  {
   "cell_type": "code",
   "execution_count": 55,
   "id": "5358f30b",
   "metadata": {},
   "outputs": [],
   "source": [
    "training_year, training_features = data_cleaning(training)\n",
    "testing_year, testing_features = data_cleaning(testing)"
   ]
  },
  {
   "cell_type": "markdown",
   "id": "4b314dc0",
   "metadata": {},
   "source": [
    "### For Training Data, first normalize the attributes. 12 average timbre features / 78 timbre covariance features. Normalize each set first, then combine"
   ]
  },
  {
   "cell_type": "code",
   "execution_count": 56,
   "id": "41d1259a",
   "metadata": {},
   "outputs": [
    {
     "name": "stdout",
     "output_type": "stream",
     "text": [
      "(463715, 90)\n"
     ]
    }
   ],
   "source": [
    "from sklearn.preprocessing import StandardScaler\n",
    "training_avg = training_features[:,:12]\n",
    "training_cov = training_features[:,12:]\n",
    "\n",
    "\n",
    "training_scale_avg = StandardScaler()\n",
    "training_scale_cov = StandardScaler()\n",
    "\n",
    "training_avg_norm = training_scale_avg.fit_transform(training_avg)\n",
    "training_cov_norm = training_scale_cov.fit_transform(training_cov)\n",
    "training_features_norm = np.hstack((training_avg_norm, training_cov_norm))\n",
    "print(training_features_norm.shape)"
   ]
  },
  {
   "cell_type": "code",
   "execution_count": null,
   "id": "3da732b0",
   "metadata": {},
   "outputs": [],
   "source": []
  }
 ],
 "metadata": {
  "kernelspec": {
   "display_name": "Python 3 (ipykernel)",
   "language": "python",
   "name": "python3"
  },
  "language_info": {
   "codemirror_mode": {
    "name": "ipython",
    "version": 3
   },
   "file_extension": ".py",
   "mimetype": "text/x-python",
   "name": "python",
   "nbconvert_exporter": "python",
   "pygments_lexer": "ipython3",
   "version": "3.12.3"
  }
 },
 "nbformat": 4,
 "nbformat_minor": 5
}
