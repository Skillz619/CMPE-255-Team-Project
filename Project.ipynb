{
 "cells": [
  {
   "cell_type": "code",
   "execution_count": 33,
   "id": "86219dc0",
   "metadata": {},
   "outputs": [],
   "source": [
    "import numpy as np"
   ]
  },
  {
   "cell_type": "markdown",
   "id": "d938d02f",
   "metadata": {},
   "source": [
    "# Preprocessing"
   ]
  },
  {
   "cell_type": "code",
   "execution_count": 10,
   "id": "121313a6",
   "metadata": {},
   "outputs": [],
   "source": [
    "data_read = []\n",
    "with open('yearpredictionmsd/YearPredictionMSD.txt', 'r') as file:\n",
    "    lines = file.readlines()\n",
    "data_read = [line.strip().split(\",\") for line in lines]"
   ]
  },
  {
   "cell_type": "code",
   "execution_count": 15,
   "id": "5efaf18b",
   "metadata": {},
   "outputs": [
    {
     "name": "stdout",
     "output_type": "stream",
     "text": [
      "Total number of instance  515345\n",
      "Total number of features  90\n"
     ]
    }
   ],
   "source": [
    "# Validate that feature matches the specs\n",
    "print(\"Total number of instance \", len(data_read))\n",
    "print(\"Total number of features \", len(data_read[0][1:]))"
   ]
  },
  {
   "cell_type": "markdown",
   "id": "aa35a384",
   "metadata": {},
   "source": [
    "### Checking for any missing attributes -> each instance should have 91 columns, index 0 matches year, index 1-89 matches features"
   ]
  },
  {
   "cell_type": "code",
   "execution_count": 20,
   "id": "f496f084",
   "metadata": {},
   "outputs": [
    {
     "name": "stdout",
     "output_type": "stream",
     "text": [
      "No Anomalies detected:  True\n"
     ]
    }
   ],
   "source": [
    "anomalies = []\n",
    "for index, instance in enumerate(data_read):\n",
    "    if (len(instance) != 91):\n",
    "        anomalies.append(index)\n",
    "print(\"No Anomalies detected: \", len(anomalies) == 0)"
   ]
  },
  {
   "cell_type": "markdown",
   "id": "215ef553",
   "metadata": {},
   "source": [
    "### Breakdown data into training and testing, first 463,715 to be training via data set instructions. Separate year with features, converting types."
   ]
  },
  {
   "cell_type": "code",
   "execution_count": 34,
   "id": "2d38f781",
   "metadata": {},
   "outputs": [],
   "source": [
    "training = np.array(data_read[:463715])\n",
    "testing = np.array(data_read[463715:])"
   ]
  },
  {
   "cell_type": "code",
   "execution_count": 29,
   "id": "0f83b064",
   "metadata": {},
   "outputs": [
    {
     "name": "stdout",
     "output_type": "stream",
     "text": [
      "length of training 463715, length of testing 51630, total 515345\n"
     ]
    }
   ],
   "source": [
    "print(f\"length of training {len(training)}, length of testing {len(testing)}, total {len(data_read)}\")"
   ]
  },
  {
   "cell_type": "code",
   "execution_count": 54,
   "id": "c1426ddc",
   "metadata": {},
   "outputs": [],
   "source": [
    "def data_cleaning(data):\n",
    "    years = data[:, 0]\n",
    "    years = [int(year) for year in years]\n",
    "    features = data[:, 1:]\n",
    "    features = [np.double(feature) for feature in features]\n",
    "    return np.array(years), np.array(features)\n"
   ]
  },
  {
   "cell_type": "code",
   "execution_count": 55,
   "id": "647ada6c",
   "metadata": {},
   "outputs": [],
   "source": [
    "training_year, training_features = data_cleaning(training)\n",
    "testing_year, testing_features = data_cleaning(testing)"
   ]
  },
  {
   "cell_type": "markdown",
   "id": "b82de04d",
   "metadata": {},
   "source": [
    "### For Training Data, first normalize the attributes. 12 average timbre features / 78 timbre covariance features. Normalize each set first, then combine."
   ]
  },
  {
   "cell_type": "code",
   "execution_count": 58,
   "id": "18d23c08",
   "metadata": {},
   "outputs": [
    {
     "name": "stdout",
     "output_type": "stream",
     "text": [
      "Normalized feature shape:  (463715, 90)\n"
     ]
    }
   ],
   "source": [
    "from sklearn.preprocessing import StandardScaler\n",
    "training_avg = training_features[:,:12]\n",
    "training_cov = training_features[:,12:]\n",
    "\n",
    "\n",
    "training_scale_avg = StandardScaler()\n",
    "training_scale_cov = StandardScaler()\n",
    "\n",
    "training_avg_norm = training_scale_avg.fit_transform(training_avg)\n",
    "training_cov_norm = training_scale_cov.fit_transform(training_cov)\n",
    "training_features_norm = np.hstack((training_avg_norm, training_cov_norm))\n",
    "print(\"Normalized feature shape: \", training_features_norm.shape)"
   ]
  },
  {
   "cell_type": "code",
   "execution_count": null,
   "id": "af51cc29",
   "metadata": {},
   "outputs": [],
   "source": []
  }
 ],
 "metadata": {
  "kernelspec": {
   "display_name": "Python 3 (ipykernel)",
   "language": "python",
   "name": "python3"
  },
  "language_info": {
   "codemirror_mode": {
    "name": "ipython",
    "version": 3
   },
   "file_extension": ".py",
   "mimetype": "text/x-python",
   "name": "python",
   "nbconvert_exporter": "python",
   "pygments_lexer": "ipython3",
   "version": "3.12.3"
  }
 },
 "nbformat": 4,
 "nbformat_minor": 5
}
